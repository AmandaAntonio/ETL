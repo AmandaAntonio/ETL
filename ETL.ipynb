{
  "nbformat": 4,
  "nbformat_minor": 0,
  "metadata": {
    "colab": {
      "provenance": [],
      "mount_file_id": "15uuINAOe0KJ-6WIitAwOBEbVv-DlBZ7C",
      "authorship_tag": "ABX9TyMgaNdM/5Tjz8BpFa6B3tVv",
      "include_colab_link": true
    },
    "kernelspec": {
      "name": "python3",
      "display_name": "Python 3"
    },
    "language_info": {
      "name": "python"
    }
  },
  "cells": [
    {
      "cell_type": "markdown",
      "metadata": {
        "id": "view-in-github",
        "colab_type": "text"
      },
      "source": [
        "<a href=\"https://colab.research.google.com/github/AmandaAntonio/ETL/blob/main/ETL.ipynb\" target=\"_parent\"><img src=\"https://colab.research.google.com/assets/colab-badge.svg\" alt=\"Open In Colab\"/></a>"
      ]
    },
    {
      "cell_type": "markdown",
      "source": [
        "#Iniciando o Ambiente Spark\n"
      ],
      "metadata": {
        "id": "_t7GveJAeYD3"
      }
    },
    {
      "cell_type": "code",
      "execution_count": null,
      "metadata": {
        "colab": {
          "base_uri": "https://localhost:8080/"
        },
        "id": "7xkqr4YHeSbE",
        "outputId": "b77f8d40-10ad-4b69-e308-153dafe1448d"
      },
      "outputs": [
        {
          "output_type": "stream",
          "name": "stdout",
          "text": [
            "Requirement already satisfied: pyspark in /usr/local/lib/python3.10/dist-packages (3.5.0)\n",
            "Requirement already satisfied: py4j==0.10.9.7 in /usr/local/lib/python3.10/dist-packages (from pyspark) (0.10.9.7)\n"
          ]
        }
      ],
      "source": [
        "#Instalando o Spark\n",
        "!pip install pyspark"
      ]
    },
    {
      "cell_type": "code",
      "source": [
        "#Instalando o unidecode\n",
        "!pip install unidecode"
      ],
      "metadata": {
        "colab": {
          "base_uri": "https://localhost:8080/"
        },
        "id": "2PWugdXDe58E",
        "outputId": "98175f20-377f-42b7-d543-f7e18d1eecc6"
      },
      "execution_count": null,
      "outputs": [
        {
          "output_type": "stream",
          "name": "stdout",
          "text": [
            "Requirement already satisfied: unidecode in /usr/local/lib/python3.10/dist-packages (1.3.7)\n"
          ]
        }
      ]
    },
    {
      "cell_type": "code",
      "source": [
        "#Importando bibliotecas\n",
        "from pyspark.sql import SparkSession\n",
        "from pyspark.sql import functions as F\n",
        "from pyspark.sql.types import StringType, TimestampType\n",
        "from pyspark.sql.window import Window\n",
        "from unidecode import unidecode"
      ],
      "metadata": {
        "id": "R5yfCneoem0H"
      },
      "execution_count": null,
      "outputs": []
    },
    {
      "cell_type": "code",
      "source": [
        "#Iniciando a sessão Spark\n",
        "spark = SparkSession.builder.appName(\"Feature_Engineering\").getOrCreate()"
      ],
      "metadata": {
        "id": "Rtqk2E-VfI4A"
      },
      "execution_count": null,
      "outputs": []
    },
    {
      "cell_type": "markdown",
      "source": [
        "#Carregando os Dados em CSV"
      ],
      "metadata": {
        "id": "mQ-wcu2WfUSg"
      }
    },
    {
      "cell_type": "markdown",
      "source": [
        "##Leitura dos dados"
      ],
      "metadata": {
        "id": "l4VnRLtkgKv0"
      }
    },
    {
      "cell_type": "code",
      "source": [
        "#Lendo o arquivo csv\n",
        "cadastro_csv = spark.read.csv(\"/content/drive/MyDrive/ETL_Exercicio/Raw_Data/dados_cadastro_2.csv\", header=True, sep = \"|\")"
      ],
      "metadata": {
        "id": "UIyqo2_dfnYJ"
      },
      "execution_count": null,
      "outputs": []
    },
    {
      "cell_type": "code",
      "source": [
        "#Exibindo as primeiras linhas\n",
        "cadastro_csv.show(truncate=False)"
      ],
      "metadata": {
        "colab": {
          "base_uri": "https://localhost:8080/"
        },
        "id": "jOMBNGKWf7uy",
        "outputId": "0cfaf59a-01da-4a8e-9eae-72f7e57ad369"
      },
      "execution_count": null,
      "outputs": [
        {
          "output_type": "stream",
          "name": "stdout",
          "text": [
            "+-----------+----------------------+---------------+----+--------+--------------------------+------+-----------------------------+--------------------+------+-------------------+-------------+\n",
            "|cpf        |nome                  |data_nascimento|sexo|convenio|logradouro                |numero|bairro                       |cidade              |estado|data_cadastro      |pais_cadastro|\n",
            "+-----------+----------------------+---------------+----+--------+--------------------------+------+-----------------------------+--------------------+------+-------------------+-------------+\n",
            "|03687145271|Maria Cecília Duarte  |02/11/1989     |Fem |AMIL    |Jardim Rodrigues          |335.0 |São Geraldo                  |Gonçalves           |CE    |1970-07-28 10:05:02|Br           |\n",
            "|40791586375|Maria Cecília Alves   |10/05/1980     |Fem |AMIL    |Viela de Ribeiro          |651.0 |Goiania                      |Rezende da Praia    |AP    |1992-03-12 07:10:16|Br           |\n",
            "|52983647056|Laura Cardoso         |02/09/1997     |Fem |AMIL    |Pátio Brenda Ribeiro      |64.0  |Acaiaca                      |Campos Grande       |PR    |1977-01-03 07:55:38|Br           |\n",
            "|81267390530|Sophia Melo           |24/04/2018     |Fem |AMIL    |Lagoa Kevin das Neves     |846.0 |Conjunto Celso Machado       |Fernandes           |RO    |1981-03-05 15:27:34|Br           |\n",
            "|07935684200|Melissa da Costa      |28/05/1988     |Fem |AMIL    |Pátio de Ribeiro          |385.0 |Pousada Santo Antonio        |da Mata             |MG    |2011-10-08 20:37:40|Br           |\n",
            "|08526941720|Srta. Isabella Almeida|22/12/1996     |Fem |AMIL    |Chácara Santos            |928.0 |Alto Barroca                 |Aragão de Porto     |PE    |1980-08-16 19:01:44|Br           |\n",
            "|08145326915|Dra. Beatriz das Neves|23/08/1989     |Fem |AMIL    |Feira João Gabriel Azevedo|104.0 |Ventosa                      |Martins             |MS    |1987-02-04 00:03:35|Br           |\n",
            "|95120348750|Sabrina Cunha         |24/08/1988     |Fem |AMIL    |Chácara Farias            |358.0 |Vila Nossa Senhora Do Rosário|Jesus de Minas      |PR    |1983-09-07 00:04:53|Br           |\n",
            "|36420815762|Isis Alves            |21/10/1994     |Fem |AMIL    |Colônia Alves             |922.0 |Granja Werneck               |Fernandes de Cardoso|RR    |1991-04-30 16:12:41|Br           |\n",
            "|36958470184|Igor Alves            |16/06/2019     |Masc|AMIL    |Viela Nicolas Aragão      |810.0 |Conjunto Santa Maria         |Freitas             |PB    |2005-03-20 13:34:21|Br           |\n",
            "|79310584610|Gustavo Moreira       |28/12/1991     |Masc|AMIL    |Alameda Fernanda Castro   |850.0 |São Jorge 3ª Seção           |Araújo              |PA    |1978-06-09 10:38:03|Br           |\n",
            "|76024953143|João Lucas Souza      |08/07/1983     |Masc|AMIL    |Estrada Pinto             |591.0 |Vista Do Sol                 |Nogueira            |SP    |1979-09-02 20:50:49|Br           |\n",
            "|31607259877|Mariane Cardoso       |24/06/1999     |Fem |AMIL    |Parque Santos             |52.0  |Vila Rica                    |da Paz              |PI    |2021-01-18 11:45:41|Br           |\n",
            "|82751403662|Srta. Júlia Pinto     |21/11/1997     |Fem |AMIL    |Vereda Campos             |905.0 |Lagoinha Leblon              |da Cunha            |MT    |2003-07-13 15:06:14|Br           |\n",
            "|40358761271|Srta. Lorena Souza    |24/10/2019     |Fem |AMIL    |Condomínio Ribeiro        |630.0 |Vista Alegre                 |Rezende da Prata    |AC    |2022-09-07 01:14:30|Br           |\n",
            "|70952184630|Igor Carvalho         |13/08/2021     |Masc|AMIL    |Viela de Azevedo          |887.0 |Piraja                       |da Rocha do Sul     |PE    |1986-11-14 11:36:06|Br           |\n",
            "|78239145655|Enzo Gabriel Campos   |30/05/2003     |Masc|AMIL    |Aeroporto de Farias       |849.0 |Bacurau                      |da Paz              |TO    |1996-06-04 19:29:23|Br           |\n",
            "|90846571285|Raul Cardoso          |23/09/2019     |Masc|AMIL    |Esplanada de Viana        |923.0 |Vila Formosa                 |Mendes              |MG    |1975-11-08 15:09:27|Br           |\n",
            "|84576031244|Sra. Clarice Rodrigues|31/12/2014     |Fem |AMIL    |Residencial de Fernandes  |769.0 |Garças                       |Moura               |SP    |2013-03-18 20:54:27|Br           |\n",
            "|34650981298|Heitor Caldeira       |22/09/1978     |Masc|AMIL    |Fazenda de Ferreira       |724.0 |Vila Ipiranga                |Lopes de da Mota    |MG    |1973-10-04 18:43:43|Br           |\n",
            "+-----------+----------------------+---------------+----+--------+--------------------------+------+-----------------------------+--------------------+------+-------------------+-------------+\n",
            "only showing top 20 rows\n",
            "\n"
          ]
        }
      ]
    },
    {
      "cell_type": "code",
      "source": [
        "#Nomes das colunas e o tipo dos dados\n",
        "cadastro_csv.printSchema()"
      ],
      "metadata": {
        "colab": {
          "base_uri": "https://localhost:8080/"
        },
        "id": "KBZI3-pHf_lU",
        "outputId": "ce917b11-093d-4d6f-b8f7-1133bc9a212e"
      },
      "execution_count": null,
      "outputs": [
        {
          "output_type": "stream",
          "name": "stdout",
          "text": [
            "root\n",
            " |-- cpf: string (nullable = true)\n",
            " |-- nome: string (nullable = true)\n",
            " |-- data_nascimento: string (nullable = true)\n",
            " |-- sexo: string (nullable = true)\n",
            " |-- convenio: string (nullable = true)\n",
            " |-- logradouro: string (nullable = true)\n",
            " |-- numero: string (nullable = true)\n",
            " |-- bairro: string (nullable = true)\n",
            " |-- cidade: string (nullable = true)\n",
            " |-- estado: string (nullable = true)\n",
            " |-- data_cadastro: string (nullable = true)\n",
            " |-- pais_cadastro: string (nullable = true)\n",
            "\n"
          ]
        }
      ]
    },
    {
      "cell_type": "code",
      "source": [
        "#Número de linhas da tabela\n",
        "cadastro_csv.count()"
      ],
      "metadata": {
        "colab": {
          "base_uri": "https://localhost:8080/"
        },
        "id": "QRaj7Y31gFuK",
        "outputId": "c780756c-53d1-473d-a0ba-51c3baaf5786"
      },
      "execution_count": null,
      "outputs": [
        {
          "output_type": "execute_result",
          "data": {
            "text/plain": [
              "952875"
            ]
          },
          "metadata": {},
          "execution_count": 60
        }
      ]
    },
    {
      "cell_type": "markdown",
      "source": [
        "##Tratamento dos dados"
      ],
      "metadata": {
        "id": "NsQth0RZgPbT"
      }
    },
    {
      "cell_type": "code",
      "source": [
        "#Fazendo um cópia da base de dados original\n",
        "cadastro_csv_clean = cadastro_csv.alias(\"cadastro_csv_clean\")"
      ],
      "metadata": {
        "id": "kun7Pxw0kFuL"
      },
      "execution_count": null,
      "outputs": []
    },
    {
      "cell_type": "code",
      "source": [
        "#Função para remover acentos\n",
        "def remove_acentos(text):\n",
        "  return unidecode(text)\n",
        "\n",
        "#Registrando a função como UDF (User Defined Function)\n",
        "remove_acentos_udf = F.udf(remove_acentos, StringType())"
      ],
      "metadata": {
        "id": "czOBBvW0gh9t"
      },
      "execution_count": null,
      "outputs": []
    },
    {
      "cell_type": "code",
      "source": [
        "#Removendo os pronomes de tratamento da coluna nome\n",
        "cadastro_csv_clean = cadastro_csv_clean.withColumn(\"nome\", F.when(F.col(\"nome\").rlike(r\"^(Sr\\.? |Srta\\.? |Dr\\.? |Dra\\.? |Sra\\.? )\")\\\n",
        "                                                      , F.regexp_replace(F.col(\"nome\"), r\"^(Sr\\.? |Srta\\.? |Dr\\.? |Dra\\.? |Sra\\.? )\", \"\"))\\\n",
        "                                                      .otherwise(F.col(\"nome\")))\n",
        "\n",
        "\n",
        "#Convertendo a coluna data nascimento para o formato de data\n",
        "cadastro_csv_clean = cadastro_csv_clean.withColumn(\"data_nascimento\", F.to_date(\"data_nascimento\", \"dd/MM/yyyy\"))\n",
        "\n",
        "#Convertendo o valor Fem e Masc para F e M\n",
        "cadastro_csv_clean = cadastro_csv_clean.replace([\"Fem\", \"Masc\"], [\"F\", \"M\"], \"sexo\")\n",
        "\n",
        "#Removendo o valor .0 da coluna numero\n",
        "cadastro_csv_clean = cadastro_csv_clean.withColumn(\"numero\", F.regexp_replace(F.col(\"numero\"), r\"\\.0$\", \"\"))\n",
        "\n",
        "#Padronizando os registros da coluna cidade(inicias com letra maiúscula)\n",
        "cadastro_csv_clean = cadastro_csv_clean.withColumn(\"cidade\", F.initcap(\"cidade\"))\n",
        "\n",
        "#Convertendo a coluna data_cadastro de string para timestamp\n",
        "cadastro_csv_clean = cadastro_csv_clean.withColumn(\"data_cadastro\", F.to_timestamp(\"data_cadastro\", \"yyyy-MM-dd HH:mm:ss\"))\n",
        "\n",
        "#Transformando o Br da coluna país pra Brasil\n",
        "cadastro_csv_clean = cadastro_csv_clean.replace([\"Br\"], [\"Brasil\"], \"pais_cadastro\")\n",
        "\n",
        "#Colunas para remover acentos\n",
        "colunas_para_limpar = ['nome', 'convenio', 'logradouro', 'bairro', 'cidade']\n",
        "\n",
        "# Aplicando a remoção de acentos em cada coluna especificada\n",
        "for coluna in colunas_para_limpar:\n",
        "  cadastro_csv_clean = cadastro_csv_clean.withColumn(coluna, remove_acentos_udf(F.col(coluna)))"
      ],
      "metadata": {
        "id": "53FHLkMWgVKr"
      },
      "execution_count": null,
      "outputs": []
    },
    {
      "cell_type": "code",
      "source": [
        "#Dados após o tratamento\n",
        "cadastro_csv_clean.show(truncate=False)"
      ],
      "metadata": {
        "colab": {
          "base_uri": "https://localhost:8080/"
        },
        "id": "Xe6jTILvgyI9",
        "outputId": "d99f8575-537c-491a-c427-7d8ae058856e"
      },
      "execution_count": null,
      "outputs": [
        {
          "output_type": "stream",
          "name": "stdout",
          "text": [
            "+-----------+--------------------+---------------+----+--------+--------------------------+------+-----------------------------+--------------------+------+-------------------+-------------+\n",
            "|cpf        |nome                |data_nascimento|sexo|convenio|logradouro                |numero|bairro                       |cidade              |estado|data_cadastro      |pais_cadastro|\n",
            "+-----------+--------------------+---------------+----+--------+--------------------------+------+-----------------------------+--------------------+------+-------------------+-------------+\n",
            "|03687145271|Maria Cecilia Duarte|1989-11-02     |F   |AMIL    |Jardim Rodrigues          |335   |Sao Geraldo                  |Goncalves           |CE    |1970-07-28 10:05:02|Brasil       |\n",
            "|40791586375|Maria Cecilia Alves |1980-05-10     |F   |AMIL    |Viela de Ribeiro          |651   |Goiania                      |Rezende Da Praia    |AP    |1992-03-12 07:10:16|Brasil       |\n",
            "|52983647056|Laura Cardoso       |1997-09-02     |F   |AMIL    |Patio Brenda Ribeiro      |64    |Acaiaca                      |Campos Grande       |PR    |1977-01-03 07:55:38|Brasil       |\n",
            "|81267390530|Sophia Melo         |2018-04-24     |F   |AMIL    |Lagoa Kevin das Neves     |846   |Conjunto Celso Machado       |Fernandes           |RO    |1981-03-05 15:27:34|Brasil       |\n",
            "|07935684200|Melissa da Costa    |1988-05-28     |F   |AMIL    |Patio de Ribeiro          |385   |Pousada Santo Antonio        |Da Mata             |MG    |2011-10-08 20:37:40|Brasil       |\n",
            "|08526941720|Isabella Almeida    |1996-12-22     |F   |AMIL    |Chacara Santos            |928   |Alto Barroca                 |Aragao De Porto     |PE    |1980-08-16 19:01:44|Brasil       |\n",
            "|08145326915|Beatriz das Neves   |1989-08-23     |F   |AMIL    |Feira Joao Gabriel Azevedo|104   |Ventosa                      |Martins             |MS    |1987-02-04 00:03:35|Brasil       |\n",
            "|95120348750|Sabrina Cunha       |1988-08-24     |F   |AMIL    |Chacara Farias            |358   |Vila Nossa Senhora Do Rosario|Jesus De Minas      |PR    |1983-09-07 00:04:53|Brasil       |\n",
            "|36420815762|Isis Alves          |1994-10-21     |F   |AMIL    |Colonia Alves             |922   |Granja Werneck               |Fernandes De Cardoso|RR    |1991-04-30 16:12:41|Brasil       |\n",
            "|36958470184|Igor Alves          |2019-06-16     |M   |AMIL    |Viela Nicolas Aragao      |810   |Conjunto Santa Maria         |Freitas             |PB    |2005-03-20 13:34:21|Brasil       |\n",
            "|79310584610|Gustavo Moreira     |1991-12-28     |M   |AMIL    |Alameda Fernanda Castro   |850   |Sao Jorge 3a Secao           |Araujo              |PA    |1978-06-09 10:38:03|Brasil       |\n",
            "|76024953143|Joao Lucas Souza    |1983-07-08     |M   |AMIL    |Estrada Pinto             |591   |Vista Do Sol                 |Nogueira            |SP    |1979-09-02 20:50:49|Brasil       |\n",
            "|31607259877|Mariane Cardoso     |1999-06-24     |F   |AMIL    |Parque Santos             |52    |Vila Rica                    |Da Paz              |PI    |2021-01-18 11:45:41|Brasil       |\n",
            "|82751403662|Julia Pinto         |1997-11-21     |F   |AMIL    |Vereda Campos             |905   |Lagoinha Leblon              |Da Cunha            |MT    |2003-07-13 15:06:14|Brasil       |\n",
            "|40358761271|Lorena Souza        |2019-10-24     |F   |AMIL    |Condominio Ribeiro        |630   |Vista Alegre                 |Rezende Da Prata    |AC    |2022-09-07 01:14:30|Brasil       |\n",
            "|70952184630|Igor Carvalho       |2021-08-13     |M   |AMIL    |Viela de Azevedo          |887   |Piraja                       |Da Rocha Do Sul     |PE    |1986-11-14 11:36:06|Brasil       |\n",
            "|78239145655|Enzo Gabriel Campos |2003-05-30     |M   |AMIL    |Aeroporto de Farias       |849   |Bacurau                      |Da Paz              |TO    |1996-06-04 19:29:23|Brasil       |\n",
            "|90846571285|Raul Cardoso        |2019-09-23     |M   |AMIL    |Esplanada de Viana        |923   |Vila Formosa                 |Mendes              |MG    |1975-11-08 15:09:27|Brasil       |\n",
            "|84576031244|Clarice Rodrigues   |2014-12-31     |F   |AMIL    |Residencial de Fernandes  |769   |Garcas                       |Moura               |SP    |2013-03-18 20:54:27|Brasil       |\n",
            "|34650981298|Heitor Caldeira     |1978-09-22     |M   |AMIL    |Fazenda de Ferreira       |724   |Vila Ipiranga                |Lopes De Da Mota    |MG    |1973-10-04 18:43:43|Brasil       |\n",
            "+-----------+--------------------+---------------+----+--------+--------------------------+------+-----------------------------+--------------------+------+-------------------+-------------+\n",
            "only showing top 20 rows\n",
            "\n"
          ]
        }
      ]
    },
    {
      "cell_type": "code",
      "source": [
        "#Tipagem de dados após o tratamento\n",
        "cadastro_csv_clean.printSchema()"
      ],
      "metadata": {
        "colab": {
          "base_uri": "https://localhost:8080/"
        },
        "id": "P-YSx-Vsgshq",
        "outputId": "f0c2fb2e-5e6d-46c2-d926-6ac9f5a34f25"
      },
      "execution_count": null,
      "outputs": [
        {
          "output_type": "stream",
          "name": "stdout",
          "text": [
            "root\n",
            " |-- cpf: string (nullable = true)\n",
            " |-- nome: string (nullable = true)\n",
            " |-- data_nascimento: date (nullable = true)\n",
            " |-- sexo: string (nullable = true)\n",
            " |-- convenio: string (nullable = true)\n",
            " |-- logradouro: string (nullable = true)\n",
            " |-- numero: string (nullable = true)\n",
            " |-- bairro: string (nullable = true)\n",
            " |-- cidade: string (nullable = true)\n",
            " |-- estado: string (nullable = true)\n",
            " |-- data_cadastro: timestamp (nullable = true)\n",
            " |-- pais_cadastro: string (nullable = true)\n",
            "\n"
          ]
        }
      ]
    },
    {
      "cell_type": "markdown",
      "source": [
        "##Exploração de dados"
      ],
      "metadata": {
        "id": "sxz-KpIZg0SI"
      }
    },
    {
      "cell_type": "code",
      "source": [
        "#Contagem de registros para coluna cpf\n",
        "contagem_cpf_csv = cadastro_csv_clean.groupBy(\"cpf\").count().alias(\"count\")\n",
        "\n",
        "#Verificando os valores de cpf repetidos\n",
        "contagem_cpf_csv.filter(F.col(\"count\") > 1).show()"
      ],
      "metadata": {
        "colab": {
          "base_uri": "https://localhost:8080/"
        },
        "id": "8Qg8Lk4zhEEa",
        "outputId": "756a4c97-1b87-4a8f-b99a-08a4a2b97524"
      },
      "execution_count": null,
      "outputs": [
        {
          "output_type": "stream",
          "name": "stdout",
          "text": [
            "+-----------+-----+\n",
            "|        cpf|count|\n",
            "+-----------+-----+\n",
            "|86705324171|    2|\n",
            "|91045283797|    2|\n",
            "|06214593806|    2|\n",
            "|10452867967|    2|\n",
            "+-----------+-----+\n",
            "\n"
          ]
        }
      ]
    },
    {
      "cell_type": "code",
      "source": [
        "#Definindo a janela para cada grupo 'cpf', ordenada pela data_cadastro em ordem decrescente\n",
        "windowSpec = Window.partitionBy(\"cpf\").orderBy(F.desc(\"data_cadastro\"))\n",
        "\n",
        "#Adicionando uma coluna numerada por linha, ordenada pela data_cadastro decrescente\n",
        "cadastro_csv_clean = cadastro_csv_clean.withColumn(\"row_number\", F.row_number().over(windowSpec))\n",
        "\n",
        "#Mantendo apenas as linhas com o número 1 (ou seja, a entrada mais recente para cada 'cpf')\n",
        "cadastro_csv_clean = cadastro_csv_clean.filter(cadastro_csv_clean[\"row_number\"] == 1).drop(\"row_number\")"
      ],
      "metadata": {
        "id": "3kOzhmCbhwGw"
      },
      "execution_count": null,
      "outputs": []
    },
    {
      "cell_type": "code",
      "source": [
        "#Contagem de registros para coluna cpf\n",
        "contagem_cpf_csv = cadastro_csv_clean.groupBy(\"cpf\").count().alias(\"count\")\n",
        "\n",
        "#Verificando o resultado\n",
        "contagem_cpf_csv.filter(F.col(\"count\") > 1).show()"
      ],
      "metadata": {
        "colab": {
          "base_uri": "https://localhost:8080/"
        },
        "id": "eJJ9HL9AmxmH",
        "outputId": "d8567d5b-a2a7-4328-f3e6-1371485ec006"
      },
      "execution_count": null,
      "outputs": [
        {
          "output_type": "stream",
          "name": "stdout",
          "text": [
            "+---+-----+\n",
            "|cpf|count|\n",
            "+---+-----+\n",
            "+---+-----+\n",
            "\n"
          ]
        }
      ]
    },
    {
      "cell_type": "code",
      "source": [
        "#Contagem para valores da coluna convenio\n",
        "cadastro_csv_clean.groupBy(\"convenio\").count().alias(\"count\").show()"
      ],
      "metadata": {
        "colab": {
          "base_uri": "https://localhost:8080/"
        },
        "id": "8T0znYX0h5Cp",
        "outputId": "0511d4fb-775b-4743-c938-71f891816e2b"
      },
      "execution_count": null,
      "outputs": [
        {
          "output_type": "stream",
          "name": "stdout",
          "text": [
            "+------------+-----+\n",
            "|    convenio|count|\n",
            "+------------+-----+\n",
            "|Porto Seguro|86731|\n",
            "|  GoodHealth|86945|\n",
            "|   SaudeMais|86647|\n",
            "|       Prata|86405|\n",
            "|        AMIL|86420|\n",
            "|        Gold|86266|\n",
            "|  Sulamerica|86462|\n",
            "|    Bradesco|86860|\n",
            "|        Itau|86387|\n",
            "|      Bronze|86863|\n",
            "|         SUS|86885|\n",
            "+------------+-----+\n",
            "\n"
          ]
        }
      ]
    },
    {
      "cell_type": "markdown",
      "source": [
        "##Salvando os dados"
      ],
      "metadata": {
        "id": "Geokp17WiHjh"
      }
    },
    {
      "cell_type": "code",
      "source": [
        "#Criando uma view temporaria\n",
        "cadastro_csv_clean.createOrReplaceTempView(\"cadastro_csv_clean\")"
      ],
      "metadata": {
        "id": "BYxbleUnlehN"
      },
      "execution_count": null,
      "outputs": []
    },
    {
      "cell_type": "code",
      "source": [
        "#Padronizando os nomes e as sequência das colunas do dataframe\n",
        "cadastro_csv_clean = spark.sql(\"\"\"\n",
        "               SELECT\n",
        "                cpf as CPF,\n",
        "                nome as NOME,\n",
        "                data_nascimento as DATA_NASCIMENTO,\n",
        "                sexo as SEXO,\n",
        "                convenio CONVENIO,\n",
        "                logradouro as LOGRADOURO,\n",
        "                numero NUMERO,\n",
        "                bairro as BAIRRO,\n",
        "                cidade as CIDADE,\n",
        "                estado as ESTADO,\n",
        "                data_cadastro as DATA_CADASTRO,\n",
        "                pais_cadastro as PAIS_CADASTRO\n",
        "              FROM\n",
        "                cadastro_csv_clean\n",
        "\"\"\")\n",
        "\n",
        "#Exibindo o dataframe limpo\n",
        "cadastro_csv_clean.show(5, truncate=False)"
      ],
      "metadata": {
        "colab": {
          "base_uri": "https://localhost:8080/"
        },
        "id": "gOqW1KjQlyMp",
        "outputId": "d3592ba7-af36-4979-fb5b-8bc6461de132"
      },
      "execution_count": null,
      "outputs": [
        {
          "output_type": "stream",
          "name": "stdout",
          "text": [
            "+-----------+---------------------+---------------+----+------------+---------------------+------+--------------------+-------------------+------+-------------------+-------------+\n",
            "|CPF        |NOME                 |DATA_NASCIMENTO|SEXO|CONVENIO    |LOGRADOURO           |NUMERO|BAIRRO              |CIDADE             |ESTADO|DATA_CADASTRO      |PAIS_CADASTRO|\n",
            "+-----------+---------------------+---------------+----+------------+---------------------+------+--------------------+-------------------+------+-------------------+-------------+\n",
            "|01234569752|Luiz Miguel Rodrigues|2017-06-04     |M   |Porto Seguro|Loteamento de Mendes |373   |Conjunto Serra Verde|Santos             |SP    |2014-04-02 04:22:42|Brasil       |\n",
            "|01234578905|Luiz Henrique Gomes  |2020-12-13     |M   |Gold        |Setor de da Conceicao|346   |Vila Sumare         |Ferreira           |PA    |2008-04-03 23:31:27|Brasil       |\n",
            "|01234579634|Heitor Vieira        |1978-05-28     |M   |Gold        |Patio Vieira         |554   |Vila Havai          |Pires              |CE    |2001-09-18 18:26:08|Brasil       |\n",
            "|01234586762|Livia Ramos          |1971-12-10     |F   |Sulamerica  |Jardim de Nunes      |70    |Vila Santa Rosa     |Moraes Dos Dourados|CE    |1980-12-28 11:13:52|Brasil       |\n",
            "|01234589788|Luna da Cruz         |1971-11-29     |F   |Prata       |Conjunto Ian Gomes   |300   |Vila Copacabana     |Cardoso Das Pedras |AP    |1996-09-03 20:28:34|Brasil       |\n",
            "+-----------+---------------------+---------------+----+------------+---------------------+------+--------------------+-------------------+------+-------------------+-------------+\n",
            "only showing top 5 rows\n",
            "\n"
          ]
        }
      ]
    },
    {
      "cell_type": "code",
      "source": [
        "#Caminho onde salva o arquivo no Google Drive\n",
        "caminho_no_drive = \"/content/drive/MyDrive/ETL_Exercicio/Clean_Data/cadastro_csv_clean_parquet\"\n",
        "\n",
        "#Salvando o DataFrame como arquivo parquet no Google Drive\n",
        "cadastro_csv_clean.write.parquet(caminho_no_drive, mode=\"overwrite\")"
      ],
      "metadata": {
        "id": "LQlYL1voiGuH"
      },
      "execution_count": null,
      "outputs": []
    },
    {
      "cell_type": "markdown",
      "source": [
        "#Carregando os Dados em Parquet"
      ],
      "metadata": {
        "id": "FOUyJNE_RzRp"
      }
    },
    {
      "cell_type": "markdown",
      "source": [
        "##Leitura dos dados"
      ],
      "metadata": {
        "id": "OlqDikRXSPkS"
      }
    },
    {
      "cell_type": "code",
      "source": [
        "#Lendo o arquivo parquet\n",
        "cadastro_parquet = spark.read.parquet(\"/content/drive/MyDrive/ETL_Exercicio/Raw_Data/dados_cadastro_1.parquet\",header = True)"
      ],
      "metadata": {
        "id": "H3laxyrKR5TZ"
      },
      "execution_count": null,
      "outputs": []
    },
    {
      "cell_type": "code",
      "source": [
        "#Exibindo as primeiras linhas\n",
        "cadastro_parquet.show(truncate=False)"
      ],
      "metadata": {
        "colab": {
          "base_uri": "https://localhost:8080/"
        },
        "id": "EaOpocstSAFK",
        "outputId": "18877aac-1f1e-4eb6-af6f-ae616e5f8c4c"
      },
      "execution_count": null,
      "outputs": [
        {
          "output_type": "stream",
          "name": "stdout",
          "text": [
            "+--------------+------------------------+---------------+----+------------+------------------------+------+-----------------------+---------------------+------+-------------------+---+-----------------+\n",
            "|documento_cpf |nome_completo           |data_nascimento|sexo|convenio    |logradouro              |numero|bairro                 |cidade               |pais  |data_cadastro      |uf |__index_level_0__|\n",
            "+--------------+------------------------+---------------+----+------------+------------------------+------+-----------------------+---------------------+------+-------------------+---+-----------------+\n",
            "|390.628.415-89|Caroline Rocha          |1982-02-28     |Fem |GoodHealth  |Trevo Santos            |773   |Vila Antena            |Cardoso              |Brasil|1979-10-19T08:09:16|AC |207979           |\n",
            "|360.847.952-00|Dr. Luiz Otávio Monteiro|2020-09-04     |Masc|Porto Seguro|Trevo Mariana Alves     |184   |Marmiteiros            |Gonçalves            |Brasil|2012-01-22T00:21:53|AC |518164           |\n",
            "|415.932.076-70|Srta. Emanuelly Caldeira|2011-10-28     |Fem |Prata       |Residencial Mendes      |449   |Vila Puc               |Pinto                |Brasil|2022-03-16T08:37:34|AC |532404           |\n",
            "|024.653.789-29|Fernanda Dias           |1995-01-21     |Fem |Sulamerica  |Alameda de Carvalho     |912   |Santo André            |da Mata Verde        |Brasil|1971-03-29T13:31:18|AC |372357           |\n",
            "|135.987.460-75|Cauã Pires              |2020-09-03     |Masc|SaudeMais   |Fazenda de Nunes        |002   |Alto Caiçaras          |Azevedo              |Brasil|2020-01-04T12:02:59|AC |357298           |\n",
            "|791.238.560-68|Danilo da Costa         |2003-06-16     |Masc|SaudeMais   |Vereda Campos           |407   |Boa Esperança          |Ferreira             |Brasil|2006-09-20T19:06:37|AC |250563           |\n",
            "|896.075.213-40|Gabriela Novaes         |1986-09-22     |Fem |Porto Seguro|Passarela Heitor da Cruz|800   |Paraíso                |Mendes do Sul        |Brasil|1987-12-31T20:48:24|AC |488531           |\n",
            "|751.386.029-77|Ana Beatriz Porto       |1986-09-22     |Fem |Itau        |Pátio Davi Lucas Nunes  |686   |Europa                 |Monteiro             |Brasil|2006-04-17T19:43:05|AC |584494           |\n",
            "|145.763.820-71|Rodrigo Martins         |1981-04-24     |Masc|Prata       |Recanto Vieira          |223   |Vila Antena            |Rocha                |Brasil|2013-04-06T03:19:28|AC |631855           |\n",
            "|417.298.365-00|Davi Cunha              |1995-01-22     |Masc|SUS         |Residencial de da Cunha |847   |Beija Flor             |Gomes do Campo       |Brasil|1972-11-15T17:44:20|AC |671927           |\n",
            "|867.053.241-71|Nicolas Melo            |1971-10-04     |Masc|Porto Seguro|Vila de Duarte          |416   |Santa Inês             |Farias               |Brasil|1973-11-06T03:21:29|AC |4239             |\n",
            "|561.943.207-61|Henrique Nunes          |1989-04-25     |Masc|Bradesco    |Vereda de Duarte        |275   |Penha                  |Caldeira dos Dourados|Brasil|1978-12-03T04:51:57|AC |445636           |\n",
            "|910.452.837-97|Cecília da Rocha        |1981-04-24     |Fem |AMIL        |Vale de Pinto           |666   |Beira Linha            |da Cunha Alegre      |Brasil|1998-05-12T12:57:39|AC |473988           |\n",
            "|976.403.285-00|Cauê Oliveira           |2017-10-24     |Masc|Gold        |Sítio Fernando Barros   |496   |Braúnas                |Rocha                |Brasil|2021-05-12T15:59:55|AC |252309           |\n",
            "|103.684.725-07|Ana Luiza Rocha         |1998-10-25     |Fem |Bradesco    |Morro Cecília Nunes     |209   |Oeste                  |Oliveira das Flores  |Brasil|2017-12-06T23:47:02|AC |430773           |\n",
            "|039.741.856-66|Heitor Costela          |2017-10-24     |Masc|Sulamerica  |Residencial de Santos   |200   |Vila Satélite          |Almeida da Mata      |Brasil|1970-07-23T14:14:26|AC |196057           |\n",
            "|635.172.049-43|Sr. Lucas Gabriel Fogaça|2020-09-02     |Masc|SUS         |Alameda Laís Peixoto    |583   |Jardim Dos Comerciarios|Monteiro             |Brasil|2022-04-20T06:17:00|AC |454619           |\n",
            "|431.056.827-08|Marcelo Costela         |1995-01-22     |Masc|Bradesco    |Via Sabrina Alves       |077   |Marçola                |Teixeira             |Brasil|1975-02-28T13:39:15|AC |487694           |\n",
            "|869.571.340-75|Maria Eduarda Martins   |2003-06-16     |Fem |Gold        |Avenida de Nunes        |170   |Santa Lúcia            |Teixeira da Mata     |Brasil|1970-01-15T19:26:01|AC |529885           |\n",
            "|489.376.512-46|Enrico Oliveira         |1986-09-22     |Masc|Bronze      |Alameda de Carvalho     |343   |Corumbiara             |Vieira do Campo      |Brasil|1999-03-06T19:10:35|AC |160247           |\n",
            "+--------------+------------------------+---------------+----+------------+------------------------+------+-----------------------+---------------------+------+-------------------+---+-----------------+\n",
            "only showing top 20 rows\n",
            "\n"
          ]
        }
      ]
    },
    {
      "cell_type": "code",
      "source": [
        "#Nomes das colunas e o tipo dos dados\n",
        "cadastro_parquet.printSchema()"
      ],
      "metadata": {
        "colab": {
          "base_uri": "https://localhost:8080/"
        },
        "id": "fuHHsehtSA5_",
        "outputId": "dff97752-7866-4aaf-87d4-86edeee1d629"
      },
      "execution_count": null,
      "outputs": [
        {
          "output_type": "stream",
          "name": "stdout",
          "text": [
            "root\n",
            " |-- documento_cpf: string (nullable = true)\n",
            " |-- nome_completo: string (nullable = true)\n",
            " |-- data_nascimento: string (nullable = true)\n",
            " |-- sexo: string (nullable = true)\n",
            " |-- convenio: string (nullable = true)\n",
            " |-- logradouro: string (nullable = true)\n",
            " |-- numero: string (nullable = true)\n",
            " |-- bairro: string (nullable = true)\n",
            " |-- cidade: string (nullable = true)\n",
            " |-- pais: string (nullable = true)\n",
            " |-- data_cadastro: string (nullable = true)\n",
            " |-- uf: string (nullable = true)\n",
            " |-- __index_level_0__: long (nullable = true)\n",
            "\n"
          ]
        }
      ]
    },
    {
      "cell_type": "code",
      "source": [
        "#Número de linhas da tabela\n",
        "cadastro_parquet.count()"
      ],
      "metadata": {
        "colab": {
          "base_uri": "https://localhost:8080/"
        },
        "id": "uD9UC4HvSFHg",
        "outputId": "d8a0e0d2-8f8b-4f0e-a721-88403e5f1379"
      },
      "execution_count": null,
      "outputs": [
        {
          "output_type": "execute_result",
          "data": {
            "text/plain": [
              "952613"
            ]
          },
          "metadata": {},
          "execution_count": 76
        }
      ]
    },
    {
      "cell_type": "markdown",
      "source": [
        "##Tratamento do dados"
      ],
      "metadata": {
        "id": "2EWBNfABSLNX"
      }
    },
    {
      "cell_type": "code",
      "source": [
        "#Fazendo um cópia da base de dados original\n",
        "cadastro_parquet_clean = cadastro_parquet.alias(\"cadastro_csv_clean\")"
      ],
      "metadata": {
        "id": "ToMUYdlJWbL_"
      },
      "execution_count": null,
      "outputs": []
    },
    {
      "cell_type": "code",
      "source": [
        "#Removendo os pontos da coluna cpf\n",
        "cadastro_parquet_clean = cadastro_parquet_clean.withColumn('documento_cpf', F.regexp_replace('documento_cpf', '[^\\w\\s]', ''))\n",
        "\n",
        "#Removendo os pronomes de tratamento da coluna nome completo\n",
        "cadastro_parquet_clean = cadastro_parquet_clean.withColumn(\"nome_completo\", F.when(F.col(\"nome_completo\").rlike(r\"^(Sr\\.? |Srta\\.? |Dr\\.? |Dra\\.? |Sra\\.? )\")\\\n",
        "                                              ,F.regexp_replace(F.col(\"nome_completo\"), r\"^(Sr\\.? |Srta\\.? |Dr\\.? |Dra\\.? |Sra\\.? )\", \"\"))\\\n",
        "                                              .otherwise(F.col(\"nome_completo\")))\n",
        "\n",
        "#Convertendo a coluna data nascimento para data\n",
        "cadastro_parquet_clean = cadastro_parquet_clean.withColumn(\"data_nascimento\", F.to_date(\"data_nascimento\", \"yyyy-MM-dd\"))\n",
        "\n",
        "#Convertendo o valor Fem e Masc para F e M\n",
        "cadastro_parquet_clean = cadastro_parquet_clean.replace([\"Fem\", \"Masc\"], [\"F\", \"M\"], \"sexo\")\n",
        "\n",
        "#Convertendo a coluna data nascimento para timestamp\n",
        "cadastro_parquet_clean = cadastro_parquet_clean.withColumn(\"data_cadastro\", F.to_timestamp(\"data_cadastro\", \"yyyy-MM-dd'T'HH:mm:ss\"))\n",
        "\n",
        "#Padronizando os registros da coluna cidade(inicias com letra maiúscula)\n",
        "cadastro_parquet_clean = cadastro_parquet_clean.withColumn(\"cidade\", F.initcap(\"cidade\"))\n",
        "\n",
        "#Excluindo a coluna __inde__level__0\n",
        "cadastro_parquet_clean = cadastro_parquet_clean.drop(\"__index_level_0__\")\n",
        "\n",
        "#Colunas para remover acentos\n",
        "colunas_para_limpar = ['nome_completo', 'convenio', 'logradouro', 'bairro', 'cidade']\n",
        "\n",
        "# Aplicando a remoção de acentos em cada coluna especificada\n",
        "for coluna in colunas_para_limpar:\n",
        "  cadastro_parquet_clean = cadastro_parquet_clean.withColumn(coluna, remove_acentos_udf(F.col(coluna)))\n"
      ],
      "metadata": {
        "id": "h1wJ2PI9SIq3"
      },
      "execution_count": null,
      "outputs": []
    },
    {
      "cell_type": "code",
      "source": [
        "#Dados após o tratamento\n",
        "cadastro_parquet_clean.show(truncate=False)"
      ],
      "metadata": {
        "colab": {
          "base_uri": "https://localhost:8080/"
        },
        "id": "GG_BtopwSraw",
        "outputId": "3cfcacf7-5054-4f5a-aaae-55601704e08e"
      },
      "execution_count": null,
      "outputs": [
        {
          "output_type": "stream",
          "name": "stdout",
          "text": [
            "+-------------+---------------------+---------------+----+------------+------------------------+------+-----------------------+---------------------+------+-------------------+---+\n",
            "|documento_cpf|nome_completo        |data_nascimento|sexo|convenio    |logradouro              |numero|bairro                 |cidade               |pais  |data_cadastro      |uf |\n",
            "+-------------+---------------------+---------------+----+------------+------------------------+------+-----------------------+---------------------+------+-------------------+---+\n",
            "|39062841589  |Caroline Rocha       |1982-02-28     |F   |GoodHealth  |Trevo Santos            |773   |Vila Antena            |Cardoso              |Brasil|1979-10-19 08:09:16|AC |\n",
            "|36084795200  |Luiz Otavio Monteiro |2020-09-04     |M   |Porto Seguro|Trevo Mariana Alves     |184   |Marmiteiros            |Goncalves            |Brasil|2012-01-22 00:21:53|AC |\n",
            "|41593207670  |Emanuelly Caldeira   |2011-10-28     |F   |Prata       |Residencial Mendes      |449   |Vila Puc               |Pinto                |Brasil|2022-03-16 08:37:34|AC |\n",
            "|02465378929  |Fernanda Dias        |1995-01-21     |F   |Sulamerica  |Alameda de Carvalho     |912   |Santo Andre            |Da Mata Verde        |Brasil|1971-03-29 13:31:18|AC |\n",
            "|13598746075  |Caua Pires           |2020-09-03     |M   |SaudeMais   |Fazenda de Nunes        |002   |Alto Caicaras          |Azevedo              |Brasil|2020-01-04 12:02:59|AC |\n",
            "|79123856068  |Danilo da Costa      |2003-06-16     |M   |SaudeMais   |Vereda Campos           |407   |Boa Esperanca          |Ferreira             |Brasil|2006-09-20 19:06:37|AC |\n",
            "|89607521340  |Gabriela Novaes      |1986-09-22     |F   |Porto Seguro|Passarela Heitor da Cruz|800   |Paraiso                |Mendes Do Sul        |Brasil|1987-12-31 20:48:24|AC |\n",
            "|75138602977  |Ana Beatriz Porto    |1986-09-22     |F   |Itau        |Patio Davi Lucas Nunes  |686   |Europa                 |Monteiro             |Brasil|2006-04-17 19:43:05|AC |\n",
            "|14576382071  |Rodrigo Martins      |1981-04-24     |M   |Prata       |Recanto Vieira          |223   |Vila Antena            |Rocha                |Brasil|2013-04-06 03:19:28|AC |\n",
            "|41729836500  |Davi Cunha           |1995-01-22     |M   |SUS         |Residencial de da Cunha |847   |Beija Flor             |Gomes Do Campo       |Brasil|1972-11-15 17:44:20|AC |\n",
            "|86705324171  |Nicolas Melo         |1971-10-04     |M   |Porto Seguro|Vila de Duarte          |416   |Santa Ines             |Farias               |Brasil|1973-11-06 03:21:29|AC |\n",
            "|56194320761  |Henrique Nunes       |1989-04-25     |M   |Bradesco    |Vereda de Duarte        |275   |Penha                  |Caldeira Dos Dourados|Brasil|1978-12-03 04:51:57|AC |\n",
            "|91045283797  |Cecilia da Rocha     |1981-04-24     |F   |AMIL        |Vale de Pinto           |666   |Beira Linha            |Da Cunha Alegre      |Brasil|1998-05-12 12:57:39|AC |\n",
            "|97640328500  |Caue Oliveira        |2017-10-24     |M   |Gold        |Sitio Fernando Barros   |496   |Braunas                |Rocha                |Brasil|2021-05-12 15:59:55|AC |\n",
            "|10368472507  |Ana Luiza Rocha      |1998-10-25     |F   |Bradesco    |Morro Cecilia Nunes     |209   |Oeste                  |Oliveira Das Flores  |Brasil|2017-12-06 23:47:02|AC |\n",
            "|03974185666  |Heitor Costela       |2017-10-24     |M   |Sulamerica  |Residencial de Santos   |200   |Vila Satelite          |Almeida Da Mata      |Brasil|1970-07-23 14:14:26|AC |\n",
            "|63517204943  |Lucas Gabriel Fogaca |2020-09-02     |M   |SUS         |Alameda Lais Peixoto    |583   |Jardim Dos Comerciarios|Monteiro             |Brasil|2022-04-20 06:17:00|AC |\n",
            "|43105682708  |Marcelo Costela      |1995-01-22     |M   |Bradesco    |Via Sabrina Alves       |077   |Marcola                |Teixeira             |Brasil|1975-02-28 13:39:15|AC |\n",
            "|86957134075  |Maria Eduarda Martins|2003-06-16     |F   |Gold        |Avenida de Nunes        |170   |Santa Lucia            |Teixeira Da Mata     |Brasil|1970-01-15 19:26:01|AC |\n",
            "|48937651246  |Enrico Oliveira      |1986-09-22     |M   |Bronze      |Alameda de Carvalho     |343   |Corumbiara             |Vieira Do Campo      |Brasil|1999-03-06 19:10:35|AC |\n",
            "+-------------+---------------------+---------------+----+------------+------------------------+------+-----------------------+---------------------+------+-------------------+---+\n",
            "only showing top 20 rows\n",
            "\n"
          ]
        }
      ]
    },
    {
      "cell_type": "code",
      "source": [
        "#Tipagem de dados após o tratamento\n",
        "cadastro_parquet_clean.printSchema()"
      ],
      "metadata": {
        "colab": {
          "base_uri": "https://localhost:8080/"
        },
        "id": "g8db02bFSxE4",
        "outputId": "f784f67d-f72f-4df3-dd2e-5bd8d2ef68a0"
      },
      "execution_count": null,
      "outputs": [
        {
          "output_type": "stream",
          "name": "stdout",
          "text": [
            "root\n",
            " |-- documento_cpf: string (nullable = true)\n",
            " |-- nome_completo: string (nullable = true)\n",
            " |-- data_nascimento: date (nullable = true)\n",
            " |-- sexo: string (nullable = true)\n",
            " |-- convenio: string (nullable = true)\n",
            " |-- logradouro: string (nullable = true)\n",
            " |-- numero: string (nullable = true)\n",
            " |-- bairro: string (nullable = true)\n",
            " |-- cidade: string (nullable = true)\n",
            " |-- pais: string (nullable = true)\n",
            " |-- data_cadastro: timestamp (nullable = true)\n",
            " |-- uf: string (nullable = true)\n",
            "\n"
          ]
        }
      ]
    },
    {
      "cell_type": "markdown",
      "source": [
        "##Exploração dos dados"
      ],
      "metadata": {
        "id": "bEprG6gnS3LN"
      }
    },
    {
      "cell_type": "code",
      "source": [
        "#Contagem de registros para coluna cpf\n",
        "contagem_cpf_parket = cadastro_parquet_clean.groupBy(\"documento_cpf\").count().alias(\"count\")\n",
        "\n",
        "#Verificando os valores de cpf repetidos\n",
        "contagem_cpf_parket.filter(F.col(\"count\") > 1).show()"
      ],
      "metadata": {
        "colab": {
          "base_uri": "https://localhost:8080/"
        },
        "id": "72zt3NSqS0J9",
        "outputId": "2f85069f-a413-4d0c-885e-e3f87df9664b"
      },
      "execution_count": null,
      "outputs": [
        {
          "output_type": "stream",
          "name": "stdout",
          "text": [
            "+-------------+-----+\n",
            "|documento_cpf|count|\n",
            "+-------------+-----+\n",
            "+-------------+-----+\n",
            "\n"
          ]
        }
      ]
    },
    {
      "cell_type": "code",
      "source": [
        "#Contagem para valores da coluna convenio\n",
        "cadastro_parquet_clean.groupBy(\"convenio\").count().alias(\"count\").show()"
      ],
      "metadata": {
        "colab": {
          "base_uri": "https://localhost:8080/"
        },
        "id": "S8WQaddtS9Tz",
        "outputId": "ebaeee65-890a-48fd-f759-b1e10a7ce0f4"
      },
      "execution_count": null,
      "outputs": [
        {
          "output_type": "stream",
          "name": "stdout",
          "text": [
            "+------------+-----+\n",
            "|    convenio|count|\n",
            "+------------+-----+\n",
            "|Porto Seguro|86796|\n",
            "|  GoodHealth|86916|\n",
            "|   SaudeMais|87047|\n",
            "|       Prata|86351|\n",
            "|        AMIL|86094|\n",
            "|        Gold|86705|\n",
            "|  Sulamerica|86712|\n",
            "|    Bradesco|86073|\n",
            "|        Itau|86346|\n",
            "|      Bronze|86380|\n",
            "|         SUS|87193|\n",
            "+------------+-----+\n",
            "\n"
          ]
        }
      ]
    },
    {
      "cell_type": "markdown",
      "source": [
        "##Salvando os dados"
      ],
      "metadata": {
        "id": "W5EveiiZTIIE"
      }
    },
    {
      "cell_type": "code",
      "source": [
        "#Criando uma view temporaria\n",
        "cadastro_parquet_clean.createOrReplaceTempView(\"cadastro_parquet_clean\")"
      ],
      "metadata": {
        "id": "0lkmShTITAIY"
      },
      "execution_count": null,
      "outputs": []
    },
    {
      "cell_type": "code",
      "source": [
        "#Padronizando os nomes e as sequência das colunas do dataframe\n",
        "cadastro_parquet_clean = spark.sql(\"\"\"\n",
        "               SELECT\n",
        "                documento_cpf as CPF,\n",
        "                nome_completo as NOME,\n",
        "                data_nascimento as DATA_NASCIMENTO,\n",
        "                sexo as SEXO,\n",
        "                convenio as CONVENIO,\n",
        "                logradouro as LOGRADOURO,\n",
        "                numero as NUMERO,\n",
        "                bairro as BAIRRO,\n",
        "                cidade as CIDADE,\n",
        "                uf as ESTADO,\n",
        "                data_cadastro as DATA_CADASTRO,\n",
        "                pais as PAIS_CADASTRO\n",
        "             FROM\n",
        "                cadastro_parquet_clean\n",
        "\"\"\")\n",
        "\n",
        "#Exibindo o dataframe limpo\n",
        "cadastro_parquet_clean.show(5, truncate=False)"
      ],
      "metadata": {
        "colab": {
          "base_uri": "https://localhost:8080/"
        },
        "id": "__7N6xTsTOd7",
        "outputId": "e9b4a2ed-76ea-47b8-d15f-3c81ed2aad6d"
      },
      "execution_count": null,
      "outputs": [
        {
          "output_type": "stream",
          "name": "stdout",
          "text": [
            "+-----------+--------------------+---------------+----+------------+-------------------+------+-------------+-------------+------+-------------------+-------------+\n",
            "|CPF        |NOME                |DATA_NASCIMENTO|SEXO|CONVENIO    |LOGRADOURO         |NUMERO|BAIRRO       |CIDADE       |ESTADO|DATA_CADASTRO      |PAIS_CADASTRO|\n",
            "+-----------+--------------------+---------------+----+------------+-------------------+------+-------------+-------------+------+-------------------+-------------+\n",
            "|39062841589|Caroline Rocha      |1982-02-28     |F   |GoodHealth  |Trevo Santos       |773   |Vila Antena  |Cardoso      |AC    |1979-10-19 08:09:16|Brasil       |\n",
            "|36084795200|Luiz Otavio Monteiro|2020-09-04     |M   |Porto Seguro|Trevo Mariana Alves|184   |Marmiteiros  |Goncalves    |AC    |2012-01-22 00:21:53|Brasil       |\n",
            "|41593207670|Emanuelly Caldeira  |2011-10-28     |F   |Prata       |Residencial Mendes |449   |Vila Puc     |Pinto        |AC    |2022-03-16 08:37:34|Brasil       |\n",
            "|02465378929|Fernanda Dias       |1995-01-21     |F   |Sulamerica  |Alameda de Carvalho|912   |Santo Andre  |Da Mata Verde|AC    |1971-03-29 13:31:18|Brasil       |\n",
            "|13598746075|Caua Pires          |2020-09-03     |M   |SaudeMais   |Fazenda de Nunes   |002   |Alto Caicaras|Azevedo      |AC    |2020-01-04 12:02:59|Brasil       |\n",
            "+-----------+--------------------+---------------+----+------------+-------------------+------+-------------+-------------+------+-------------------+-------------+\n",
            "only showing top 5 rows\n",
            "\n"
          ]
        }
      ]
    },
    {
      "cell_type": "code",
      "source": [
        "#Caminho onde salva o arquivo no Google Drive\n",
        "caminho_no_drive = \"/content/drive/MyDrive/ETL_Exercicio/Clean_Data/cadastro_parquet_clean_parquet\"\n",
        "\n",
        "#Salvando o DataFrame como arquivo parquet no Google Drive\n",
        "cadastro_parquet_clean.write.parquet(caminho_no_drive, mode=\"overwrite\")"
      ],
      "metadata": {
        "id": "QTDi0wmOTjM2"
      },
      "execution_count": null,
      "outputs": []
    },
    {
      "cell_type": "markdown",
      "source": [
        "# Carregando os Dados em Json"
      ],
      "metadata": {
        "id": "_3Ha1NgzUGHV"
      }
    },
    {
      "cell_type": "markdown",
      "source": [
        "##Leitura dos dados"
      ],
      "metadata": {
        "id": "30P60LDbUO1g"
      }
    },
    {
      "cell_type": "code",
      "source": [
        "#Lendo o arquivo json\n",
        "cadastro_json = spark.read.json(\"/content/drive/MyDrive/ETL_Exercicio/Raw_Data/dados_cadastro_3.json\")"
      ],
      "metadata": {
        "id": "YWZuGOoHUNyp"
      },
      "execution_count": null,
      "outputs": []
    },
    {
      "cell_type": "code",
      "source": [
        "#Exibindo as primeiras linhas\n",
        "cadastro_json.show(truncate=False)"
      ],
      "metadata": {
        "colab": {
          "base_uri": "https://localhost:8080/"
        },
        "id": "4UgXLh4ZUWzx",
        "outputId": "46905282-9fd3-4d1c-8a9f-43733d708030"
      },
      "execution_count": null,
      "outputs": [
        {
          "output_type": "stream",
          "name": "stdout",
          "text": [
            "+-----------------------------+-------------------+--------+--------------+-------------+------------------+------------------+-------------------------------+-----------------------+------+----+----+\n",
            "|bairro                       |cidade             |convenio|cpf           |data_cadastro|data_nascimento   |estado            |logradouro                     |nome                   |numero|pais|sexo|\n",
            "+-----------------------------+-------------------+--------+--------------+-------------+------------------+------------------+-------------------------------+-----------------------+------+----+----+\n",
            "|Vila Madre Gertrudes 3ª Seção|Ribeiro Grande     |AMIL    |573.691.208-21|817032248000 |August 26, 2017   |Amapá             |Largo de Viana                 |Ryan Santos            |886   |    |M   |\n",
            "|Havaí                        |Caldeira das Flores|AMIL    |520.936.741-06|1009317437000|January 30, 2023  |Mato Grosso do Sul|Rodovia Nina Alves             |Juliana Correia        |545   |    |F   |\n",
            "|Caiçaras                     |Barbosa            |AMIL    |012.698.435-24|511111127000 |January 06, 1979  |São Paulo         |Rua Peixoto                    |Juliana Rodrigues      |728   |    |F   |\n",
            "|São Jorge 3ª Seção           |Cavalcanti         |AMIL    |541.860.972-67|387761682000 |May 01, 2008      |Tocantins         |Setor Costa                    |Letícia Novaes         |794   |    |F   |\n",
            "|São Sebastião                |da Cruz            |AMIL    |532.409.678-47|682956806000 |September 17, 1981|Paraíba           |Vale Ana Sophia da Paz         |Evelyn Moura           |196   |    |F   |\n",
            "|Nova Pampulha                |Barros             |AMIL    |219.534.870-41|1222310576000|March 29, 1973    |Paraná            |Travessa Catarina Cardoso      |Mariana Barros         |963   |    |F   |\n",
            "|Vila Primeiro De Maio        |da Cunha de da Mota|AMIL    |582.973.160-68|733837342000 |August 13, 1987   |Rio de Janeiro    |Estação de Barbosa             |Sr. Danilo da Rosa     |789   |    |M   |\n",
            "|Miramar                      |Moraes de Freitas  |AMIL    |763.490.812-69|1636486360000|June 01, 2013     |Paraná            |Distrito Rebeca Cunha          |Carlos Eduardo Viana   |705   |    |M   |\n",
            "|Vila Aeroporto               |Almeida da Mata    |AMIL    |190.427.358-05|649774552000 |April 29, 1985    |Pernambuco        |Lagoa Sarah Cardoso            |Mariana Fogaça         |962   |    |F   |\n",
            "|Vila Inestan                 |Silveira do Norte  |AMIL    |358.124.970-79|1168663441000|June 20, 1992     |Paraná            |Avenida Benjamin da Cunha      |Luiz Henrique Lima     |209   |    |M   |\n",
            "|Boa União 1ª Seção           |das Neves          |AMIL    |651.293.784-82|75408605000  |December 03, 1974 |Paraíba           |Passarela Cavalcanti           |Eduarda Castro         |217   |    |F   |\n",
            "|Horto                        |Gomes da Prata     |AMIL    |938.457.201-23|1071034980000|October 15, 2006  |Rio de Janeiro    |Sítio Rafael da Luz            |Dr. Pedro Miguel Mendes|996   |    |M   |\n",
            "|Vila São Francisco           |da Cunha das Flores|AMIL    |892.651.730-68|1531962008000|March 21, 2009    |Mato Grosso do Sul|Aeroporto Ana Carolina da Costa|Marina Peixoto         |987   |    |F   |\n",
            "|Alto Vera Cruz               |Pereira do Sul     |AMIL    |193.548.670-57|341261472000 |April 14, 1986    |Rio Grande do Sul |Recanto Alves                  |Lucas Ferreira         |681   |    |M   |\n",
            "|Cardoso                      |Ramos              |AMIL    |150.249.637-25|112869456000 |October 04, 2017  |Rio Grande do Sul |Pátio Emanuel Porto            |Pedro Nascimento       |150   |    |M   |\n",
            "|Lindéia                      |Ferreira da Mata   |AMIL    |798.541.206-94|586782035000 |September 21, 1995|Mato Grosso       |Setor de da Conceição          |Giovanna Cardoso       |57    |    |F   |\n",
            "|Santo Agostinho              |Farias de Goiás    |AMIL    |758.306.914-93|29714204000  |September 09, 2007|Distrito Federal  |Vereda Danilo Costa            |Maitê Sales            |654   |    |F   |\n",
            "|Vila Santo Antônio           |da Paz             |AMIL    |935.687.142-64|1423170865000|September 11, 2022|Amapá             |Lagoa Joana Martins            |Sr. Juan Pires         |592   |    |M   |\n",
            "|Flamengo                     |Vieira             |AMIL    |764.058.391-84|685889544000 |January 19, 2010  |Alagoas           |Passarela Monteiro             |Kaique da Luz          |29    |    |M   |\n",
            "|Canadá                       |Rodrigues do Norte |AMIL    |341.276.580-53|1370438856000|August 27, 2010   |Paraná            |Feira Brenda Jesus             |Lucca Oliveira         |666   |    |M   |\n",
            "+-----------------------------+-------------------+--------+--------------+-------------+------------------+------------------+-------------------------------+-----------------------+------+----+----+\n",
            "only showing top 20 rows\n",
            "\n"
          ]
        }
      ]
    },
    {
      "cell_type": "code",
      "source": [
        "#Nomes das colunas e o tipo dos dados\n",
        "cadastro_json.printSchema()"
      ],
      "metadata": {
        "colab": {
          "base_uri": "https://localhost:8080/"
        },
        "id": "qI0RqRBFUZLg",
        "outputId": "0013b18a-d408-48f7-a6fc-9b0f771c504c"
      },
      "execution_count": null,
      "outputs": [
        {
          "output_type": "stream",
          "name": "stdout",
          "text": [
            "root\n",
            " |-- bairro: string (nullable = true)\n",
            " |-- cidade: string (nullable = true)\n",
            " |-- convenio: string (nullable = true)\n",
            " |-- cpf: string (nullable = true)\n",
            " |-- data_cadastro: long (nullable = true)\n",
            " |-- data_nascimento: string (nullable = true)\n",
            " |-- estado: string (nullable = true)\n",
            " |-- logradouro: string (nullable = true)\n",
            " |-- nome: string (nullable = true)\n",
            " |-- numero: long (nullable = true)\n",
            " |-- pais: string (nullable = true)\n",
            " |-- sexo: string (nullable = true)\n",
            "\n"
          ]
        }
      ]
    },
    {
      "cell_type": "code",
      "source": [
        "#Número de linhas da tabela\n",
        "cadastro_json.count()"
      ],
      "metadata": {
        "colab": {
          "base_uri": "https://localhost:8080/"
        },
        "id": "TCmr2CjvUcvI",
        "outputId": "230efa3d-7680-4602-a61a-c1de1b4d05fb"
      },
      "execution_count": null,
      "outputs": [
        {
          "output_type": "execute_result",
          "data": {
            "text/plain": [
              "952210"
            ]
          },
          "metadata": {},
          "execution_count": 89
        }
      ]
    },
    {
      "cell_type": "markdown",
      "source": [
        "##Tratamento dos dados"
      ],
      "metadata": {
        "id": "wjtdczV6UlS_"
      }
    },
    {
      "cell_type": "code",
      "source": [
        "#Fazendo um cópia da base de dados original\n",
        "cadastro_json_clean = cadastro_json.alias(\"cadastro_json_clean\")"
      ],
      "metadata": {
        "id": "4KLMpHBwXmhW"
      },
      "execution_count": null,
      "outputs": []
    },
    {
      "cell_type": "code",
      "source": [
        "#Função para converter nomes dos estados em siglas\n",
        "def converter_estado(nome_estado):\n",
        "    return mapeamento_estados.get(nome_estado, nome_estado)\n",
        "\n",
        "#Registrando a função como UDF (User Defined Function)\n",
        "converter_estado_udf = F.udf(converter_estado)\n"
      ],
      "metadata": {
        "id": "LlVZRBvaVTC5"
      },
      "execution_count": null,
      "outputs": []
    },
    {
      "cell_type": "code",
      "source": [
        "#Padronizando os registros da coluna cidade(inicias com letra maiúscula)\n",
        "cadastro_json_clean = cadastro_json_clean.withColumn(\"cidade\", F.initcap(\"cidade\"))\n",
        "\n",
        "#Removendo os pontos da coluna cpf\n",
        "cadastro_json_clean = cadastro_json_clean.withColumn('cpf', F.regexp_replace('cpf', '[^\\w\\s]', ''))\n",
        "\n",
        "#Convertendo a coluna data_cadastro de long para um timestamp\n",
        "cadastro_json_clean = cadastro_json_clean.withColumn(\"data_cadastro\", F.from_unixtime(cadastro_json[\"data_cadastro\"] / 1000, \"yyyy-MM-dd HH:mm:ss\").cast(TimestampType()))\n",
        "\n",
        "#Convertendo a coluna data_nascimento para data\n",
        "cadastro_json_clean = cadastro_json_clean.withColumn(\"data_nascimento\", F.to_date(\"data_nascimento\", \"MMMM dd, yyyy\"))\n",
        "\n",
        "#Removendo os pronomes de tratamento da coluna nome completo\n",
        "cadastro_json_clean = cadastro_json_clean.withColumn(\"nome\", F.when(F.col(\"nome\").rlike(r\"^(Sr\\.? |Srta\\.? |Dr\\.? |Dra\\.? |Sra\\.? )\")\\\n",
        "                                          ,F.regexp_replace(F.col(\"nome\"), r\"^(Sr\\.? |Srta\\.? |Dr\\.? |Dra\\.? |Sra\\.? )\", \"\"))\\\n",
        "                                          .otherwise(F.col(\"nome\")))\n",
        "\n",
        "#Preenchendo com o valor Brasil a coluna pais\n",
        "cadastro_json_clean = cadastro_json_clean.withColumn(\"pais\", F.lit(\"Brasil\"))\n",
        "\n",
        "#Mapeando os nomes dos estados para siglas\n",
        "mapeamento_estados = {\n",
        "    \"Acre\": \"AC\", \"Alagoas\": \"AL\", \"Amapá\": \"AP\", \"Amazonas\": \"AM\", \"Bahia\": \"BA\", \"Ceará\": \"CE\", \"Distrito Federal\": \"DF\",\n",
        "    \"Espírito Santo\": \"ES\", \"Goiás\": \"GO\", \"Maranhão\": \"MA\", \"Mato Grosso\": \"MT\", \"Mato Grosso do Sul\": \"MS\", \"Minas Gerais\": \"MG\",\n",
        "    \"Pará\": \"PA\",  \"Paraíba\": \"PB\", \"Paraná\": \"PR\", \"Pernambuco\": \"PE\", \"Piauí\": \"PI\", \"Rio de Janeiro\": \"RJ\", \"Rio Grande do Norte\": \"RN\",\n",
        "    \"Rio Grande do Sul\": \"RS\", \"Rondônia\": \"RO\", \"Roraima\": \"RR\", \"Santa Catarina\": \"SC\", \"São Paulo\": \"SP\", \"Sergipe\": \"SE\",\n",
        "    \"Tocantins\": \"TO\"\n",
        "}\n",
        "\n",
        "#Aplicando a conversão na coluna estado\n",
        "cadastro_json_clean = cadastro_json_clean.withColumn(\"estado\", converter_estado_udf(F.col(\"estado\")))\n",
        "\n",
        "#Colunas para remover acentos\n",
        "colunas_para_limpar = [\"nome\", \"convenio\", \"logradouro\", \"bairro\", \"cidade\"]\n",
        "\n",
        "# Aplicando a remoção de acentos em cada coluna especificada\n",
        "for coluna in colunas_para_limpar:\n",
        "  cadastro_json_clean = cadastro_json_clean.withColumn(coluna, remove_acentos_udf(F.col(coluna)))"
      ],
      "metadata": {
        "id": "pik-3xknUkFB"
      },
      "execution_count": null,
      "outputs": []
    },
    {
      "cell_type": "code",
      "source": [
        "#Dados após o tratamento\n",
        "cadastro_json_clean.show(truncate=False)"
      ],
      "metadata": {
        "colab": {
          "base_uri": "https://localhost:8080/"
        },
        "id": "L3ykxxq5VfJK",
        "outputId": "53a1ecce-b4c8-4ff1-d4d6-dd0a53005306"
      },
      "execution_count": null,
      "outputs": [
        {
          "output_type": "stream",
          "name": "stdout",
          "text": [
            "+-----------------------------+-------------------+--------+-----------+-------------------+---------------+------+-------------------------------+--------------------+------+------+----+\n",
            "|bairro                       |cidade             |convenio|cpf        |data_cadastro      |data_nascimento|estado|logradouro                     |nome                |numero|pais  |sexo|\n",
            "+-----------------------------+-------------------+--------+-----------+-------------------+---------------+------+-------------------------------+--------------------+------+------+----+\n",
            "|Vila Madre Gertrudes 3a Secao|Ribeiro Grande     |AMIL    |57369120821|1995-11-22 09:24:08|2017-08-26     |AP    |Largo de Viana                 |Ryan Santos         |886   |Brasil|M   |\n",
            "|Havai                        |Caldeira Das Flores|AMIL    |52093674106|2001-12-25 21:57:17|2023-01-30     |MS    |Rodovia Nina Alves             |Juliana Correia     |545   |Brasil|F   |\n",
            "|Caicaras                     |Barbosa            |AMIL    |01269843524|1986-03-13 15:18:47|1979-01-06     |SP    |Rua Peixoto                    |Juliana Rodrigues   |728   |Brasil|F   |\n",
            "|Sao Jorge 3a Secao           |Cavalcanti         |AMIL    |54186097267|1982-04-15 23:34:42|2008-05-01     |TO    |Setor Costa                    |Leticia Novaes      |794   |Brasil|F   |\n",
            "|Sao Sebastiao                |Da Cruz            |AMIL    |53240967847|1991-08-23 14:13:26|1981-09-17     |PB    |Vale Ana Sophia da Paz         |Evelyn Moura        |196   |Brasil|F   |\n",
            "|Nova Pampulha                |Barros             |AMIL    |21953487041|2008-09-25 02:42:56|1973-03-29     |PR    |Travessa Catarina Cardoso      |Mariana Barros      |963   |Brasil|F   |\n",
            "|Vila Primeiro De Maio        |Da Cunha De Da Mota|AMIL    |58297316068|1993-04-03 11:42:22|1987-08-13     |RJ    |Estacao de Barbosa             |Danilo da Rosa      |789   |Brasil|M   |\n",
            "|Miramar                      |Moraes De Freitas  |AMIL    |76349081269|2021-11-09 19:32:40|2013-06-01     |PR    |Distrito Rebeca Cunha          |Carlos Eduardo Viana|705   |Brasil|M   |\n",
            "|Vila Aeroporto               |Almeida Da Mata    |AMIL    |19042735805|1990-08-04 12:55:52|1985-04-29     |PE    |Lagoa Sarah Cardoso            |Mariana Fogaca      |962   |Brasil|F   |\n",
            "|Vila Inestan                 |Silveira Do Norte  |AMIL    |35812497079|2007-01-13 04:44:01|1992-06-20     |PR    |Avenida Benjamin da Cunha      |Luiz Henrique Lima  |209   |Brasil|M   |\n",
            "|Boa Uniao 1a Secao           |Das Neves          |AMIL    |65129378482|1972-05-22 18:50:05|1974-12-03     |PB    |Passarela Cavalcanti           |Eduarda Castro      |217   |Brasil|F   |\n",
            "|Horto                        |Gomes Da Prata     |AMIL    |93845720123|2003-12-10 05:43:00|2006-10-15     |RJ    |Sitio Rafael da Luz            |Pedro Miguel Mendes |996   |Brasil|M   |\n",
            "|Vila Sao Francisco           |Da Cunha Das Flores|AMIL    |89265173068|2018-07-19 01:00:08|2009-03-21     |MS    |Aeroporto Ana Carolina da Costa|Marina Peixoto      |987   |Brasil|F   |\n",
            "|Alto Vera Cruz               |Pereira Do Sul     |AMIL    |19354867057|1980-10-24 18:51:12|1986-04-14     |RS    |Recanto Alves                  |Lucas Ferreira      |681   |Brasil|M   |\n",
            "|Cardoso                      |Ramos              |AMIL    |15024963725|1973-07-30 08:37:36|2017-10-04     |RS    |Patio Emanuel Porto            |Pedro Nascimento    |150   |Brasil|M   |\n",
            "|Lindeia                      |Ferreira Da Mata   |AMIL    |79854120694|1988-08-05 11:00:35|1995-09-21     |MT    |Setor de da Conceicao          |Giovanna Cardoso    |57    |Brasil|F   |\n",
            "|Santo Agostinho              |Farias De Goias    |AMIL    |75830691493|1970-12-10 21:56:44|2007-09-09     |DF    |Vereda Danilo Costa            |Maite Sales         |654   |Brasil|F   |\n",
            "|Vila Santo Antonio           |Da Paz             |AMIL    |93568714264|2015-02-05 21:14:25|2022-09-11     |AP    |Lagoa Joana Martins            |Juan Pires          |592   |Brasil|M   |\n",
            "|Flamengo                     |Vieira             |AMIL    |76405839184|1991-09-26 12:52:24|2010-01-19     |AL    |Passarela Monteiro             |Kaique da Luz       |29    |Brasil|M   |\n",
            "|Canada                       |Rodrigues Do Norte |AMIL    |34127658053|2013-06-05 13:27:36|2010-08-27     |PR    |Feira Brenda Jesus             |Lucca Oliveira      |666   |Brasil|M   |\n",
            "+-----------------------------+-------------------+--------+-----------+-------------------+---------------+------+-------------------------------+--------------------+------+------+----+\n",
            "only showing top 20 rows\n",
            "\n"
          ]
        }
      ]
    },
    {
      "cell_type": "code",
      "source": [
        "#Tipagem de dados após o tratamento\n",
        "cadastro_json_clean.printSchema()"
      ],
      "metadata": {
        "colab": {
          "base_uri": "https://localhost:8080/"
        },
        "id": "9ae55Wp6VbGv",
        "outputId": "0bedbb52-a053-420f-e896-c61c9fe10439"
      },
      "execution_count": null,
      "outputs": [
        {
          "output_type": "stream",
          "name": "stdout",
          "text": [
            "root\n",
            " |-- bairro: string (nullable = true)\n",
            " |-- cidade: string (nullable = true)\n",
            " |-- convenio: string (nullable = true)\n",
            " |-- cpf: string (nullable = true)\n",
            " |-- data_cadastro: timestamp (nullable = true)\n",
            " |-- data_nascimento: date (nullable = true)\n",
            " |-- estado: string (nullable = true)\n",
            " |-- logradouro: string (nullable = true)\n",
            " |-- nome: string (nullable = true)\n",
            " |-- numero: long (nullable = true)\n",
            " |-- pais: string (nullable = false)\n",
            " |-- sexo: string (nullable = true)\n",
            "\n"
          ]
        }
      ]
    },
    {
      "cell_type": "markdown",
      "source": [
        "##Exploração dos dados"
      ],
      "metadata": {
        "id": "oCRKcsojVkxc"
      }
    },
    {
      "cell_type": "code",
      "source": [
        "#Contagem de registros para coluna cpf\n",
        "contagem_cpf_json = cadastro_json_clean.groupBy(\"cpf\").count().alias(\"count\")\n",
        "\n",
        "#Verificando os valores de cpf repetidos\n",
        "contagem_cpf_json.filter(F.col(\"count\") > 1).show()"
      ],
      "metadata": {
        "colab": {
          "base_uri": "https://localhost:8080/"
        },
        "id": "SGqW5whTVitK",
        "outputId": "9a5000ae-f67c-48b8-cb56-e069128e0e06"
      },
      "execution_count": null,
      "outputs": [
        {
          "output_type": "stream",
          "name": "stdout",
          "text": [
            "+---+-----+\n",
            "|cpf|count|\n",
            "+---+-----+\n",
            "+---+-----+\n",
            "\n"
          ]
        }
      ]
    },
    {
      "cell_type": "code",
      "source": [
        "#Contagem para valores da coluna convenio\n",
        "cadastro_json_clean.groupBy(\"convenio\").count().alias(\"count\").show()"
      ],
      "metadata": {
        "colab": {
          "base_uri": "https://localhost:8080/"
        },
        "id": "piuApXJrVrcx",
        "outputId": "3a6ccb42-29e1-41bd-ea5f-8eeb6ca659f5"
      },
      "execution_count": null,
      "outputs": [
        {
          "output_type": "stream",
          "name": "stdout",
          "text": [
            "+------------+-----+\n",
            "|    convenio|count|\n",
            "+------------+-----+\n",
            "|  GoodHealth|86969|\n",
            "|        AMIL|86512|\n",
            "|        Gold|86435|\n",
            "|    Bradesco|86582|\n",
            "|        Itau|86854|\n",
            "|      Bronze|86427|\n",
            "|Porto Seguro|86529|\n",
            "|   SaudeMais|86461|\n",
            "|       Prata|86300|\n",
            "|  Sulamerica|87023|\n",
            "|         SUS|86118|\n",
            "+------------+-----+\n",
            "\n"
          ]
        }
      ]
    },
    {
      "cell_type": "markdown",
      "source": [
        "##Salvando os dados"
      ],
      "metadata": {
        "id": "LVK9ewoDVwRa"
      }
    },
    {
      "cell_type": "code",
      "source": [
        "#Criando uma view temporaria\n",
        "cadastro_json_clean.createOrReplaceTempView(\"cadastro_json_clean\")"
      ],
      "metadata": {
        "id": "5Ljw8_KjVt3d"
      },
      "execution_count": null,
      "outputs": []
    },
    {
      "cell_type": "code",
      "source": [
        "#Padronizando os nomes e as sequência das colunas do dataframe\n",
        "cadastro_json_clean = spark.sql(\"\"\"\n",
        "              SELECT\n",
        "                cpf as CPF,\n",
        "                nome as NOME,\n",
        "                data_nascimento as DATA_NASCIMENTO,\n",
        "                sexo as SEXO,\n",
        "                convenio as CONVENIO,\n",
        "                logradouro as LOGRADOURO,\n",
        "                numero as NUMERO,\n",
        "                bairro as BAIRRO,\n",
        "                cidade as CIDADE,\n",
        "                estado as ESTADO,\n",
        "                data_cadastro as DATA_CADASTRO,\n",
        "                pais as PAIS_CADASTRO\n",
        "             FROM\n",
        "                cadastro_json_clean\n",
        "\"\"\")\n",
        "\n",
        "#Exibindo o dataframe limpo\n",
        "cadastro_json_clean.show(5, truncate=False)"
      ],
      "metadata": {
        "colab": {
          "base_uri": "https://localhost:8080/"
        },
        "id": "NpqSDFwsV69G",
        "outputId": "4d704379-124b-4e00-84b9-f776e129d3c1"
      },
      "execution_count": null,
      "outputs": [
        {
          "output_type": "stream",
          "name": "stdout",
          "text": [
            "+-----------+-----------------+---------------+----+--------+----------------------+------+-----------------------------+-------------------+------+-------------------+-------------+\n",
            "|CPF        |NOME             |DATA_NASCIMENTO|SEXO|CONVENIO|LOGRADOURO            |NUMERO|BAIRRO                       |CIDADE             |ESTADO|DATA_CADASTRO      |PAIS_CADASTRO|\n",
            "+-----------+-----------------+---------------+----+--------+----------------------+------+-----------------------------+-------------------+------+-------------------+-------------+\n",
            "|57369120821|Ryan Santos      |2017-08-26     |M   |AMIL    |Largo de Viana        |886   |Vila Madre Gertrudes 3a Secao|Ribeiro Grande     |AP    |1995-11-22 09:24:08|Brasil       |\n",
            "|52093674106|Juliana Correia  |2023-01-30     |F   |AMIL    |Rodovia Nina Alves    |545   |Havai                        |Caldeira Das Flores|MS    |2001-12-25 21:57:17|Brasil       |\n",
            "|01269843524|Juliana Rodrigues|1979-01-06     |F   |AMIL    |Rua Peixoto           |728   |Caicaras                     |Barbosa            |SP    |1986-03-13 15:18:47|Brasil       |\n",
            "|54186097267|Leticia Novaes   |2008-05-01     |F   |AMIL    |Setor Costa           |794   |Sao Jorge 3a Secao           |Cavalcanti         |TO    |1982-04-15 23:34:42|Brasil       |\n",
            "|53240967847|Evelyn Moura     |1981-09-17     |F   |AMIL    |Vale Ana Sophia da Paz|196   |Sao Sebastiao                |Da Cruz            |PB    |1991-08-23 14:13:26|Brasil       |\n",
            "+-----------+-----------------+---------------+----+--------+----------------------+------+-----------------------------+-------------------+------+-------------------+-------------+\n",
            "only showing top 5 rows\n",
            "\n"
          ]
        }
      ]
    },
    {
      "cell_type": "code",
      "source": [
        "#Caminho onde salva o arquivo no Google Drive\n",
        "caminho_no_drive = \"/content/drive/MyDrive/ETL_Exercicio/Clean_Data/cadastro_json_clean_parquet\"\n",
        "\n",
        "#Salvando o DataFrame como arquivo parquet no Google Drive\n",
        "cadastro_json_clean.write.parquet(caminho_no_drive, mode=\"overwrite\")"
      ],
      "metadata": {
        "id": "fUiG_TgzWFWy"
      },
      "execution_count": null,
      "outputs": []
    },
    {
      "cell_type": "markdown",
      "source": [
        "#Unindo os Arquivos"
      ],
      "metadata": {
        "id": "9Uu2lLmteuAX"
      }
    },
    {
      "cell_type": "code",
      "source": [
        "#Lendo os arquivos parquet limpos\n",
        "cadastro_parquet_csv= spark.read.parquet(\"/content/drive/MyDrive/ETL_Exercicio/Clean_Data/cadastro_csv_clean_parquet\")\n",
        "cadastro_parquet_parquet = spark.read.parquet(\"/content/drive/MyDrive/ETL_Exercicio/Clean_Data/cadastro_parquet_clean_parquet\")\n",
        "cadastro_parquet_json = spark.read.parquet(\"/content/drive/MyDrive/ETL_Exercicio/Clean_Data/cadastro_json_clean_parquet\")"
      ],
      "metadata": {
        "id": "-0qw3m0_gCZD"
      },
      "execution_count": null,
      "outputs": []
    },
    {
      "cell_type": "code",
      "source": [
        "#Criando views temporárias\n",
        "cadastro_parquet_csv.createOrReplaceTempView(\"cadastro_parquet_csv\")\n",
        "cadastro_parquet_parquet.createOrReplaceTempView(\"cadastro_parquet_parquet\")\n",
        "cadastro_parquet_json.createOrReplaceTempView(\"cadastro_parquet_json\")"
      ],
      "metadata": {
        "id": "LznF9hi3ia1X"
      },
      "execution_count": null,
      "outputs": []
    },
    {
      "cell_type": "code",
      "source": [
        "cadastro_final_parquet = spark.sql(\"\"\"\n",
        "              SELECT\n",
        "                  CPF,\n",
        "                  NOME,\n",
        "                  DATA_NASCIMENTO,\n",
        "                  SEXO,\n",
        "                  CONVENIO,\n",
        "                  LOGRADOURO,\n",
        "                  NUMERO,\n",
        "                  BAIRRO,\n",
        "                  CIDADE,\n",
        "                  ESTADO,\n",
        "                  DATA_CADASTRO,\n",
        "                  PAIS_CADASTRO\n",
        "              FROM\n",
        "                cadastro_parquet_csv\n",
        "\n",
        "              UNION ALL\n",
        "\n",
        "              SELECT\n",
        "                  CPF,\n",
        "                  NOME,\n",
        "                  DATA_NASCIMENTO,\n",
        "                  SEXO,\n",
        "                  CONVENIO,\n",
        "                  LOGRADOURO,\n",
        "                  NUMERO,\n",
        "                  BAIRRO,\n",
        "                  CIDADE,\n",
        "                  ESTADO,\n",
        "                  DATA_CADASTRO,\n",
        "                  PAIS_CADASTRO\n",
        "              FROM\n",
        "                cadastro_parquet_parquet\n",
        "\n",
        "             UNION ALL\n",
        "\n",
        "             SELECT\n",
        "                  CPF,\n",
        "                  NOME,\n",
        "                  DATA_NASCIMENTO,\n",
        "                  SEXO,\n",
        "                  CONVENIO,\n",
        "                  LOGRADOURO,\n",
        "                  NUMERO,\n",
        "                  BAIRRO,\n",
        "                  CIDADE,\n",
        "                  ESTADO,\n",
        "                  DATA_CADASTRO,\n",
        "                  PAIS_CADASTRO\n",
        "             FROM\n",
        "                cadastro_parquet_json\n",
        "\"\"\")\n",
        "\n",
        "#Exibindo o dataframe final\n",
        "cadastro_final_parquet.show(8, truncate=False)"
      ],
      "metadata": {
        "colab": {
          "base_uri": "https://localhost:8080/"
        },
        "id": "8r0VdW2ce1cS",
        "outputId": "0fb9595f-55fc-44b1-e6b9-fd57ebf7eacc"
      },
      "execution_count": null,
      "outputs": [
        {
          "output_type": "stream",
          "name": "stdout",
          "text": [
            "+-----------+---------------------+---------------+----+----------+---------------------+------+----------------------------+-----------+------+-------------------+-------------+\n",
            "|CPF        |NOME                 |DATA_NASCIMENTO|SEXO|CONVENIO  |LOGRADOURO           |NUMERO|BAIRRO                      |CIDADE     |ESTADO|DATA_CADASTRO      |PAIS_CADASTRO|\n",
            "+-----------+---------------------+---------------+----+----------+---------------------+------+----------------------------+-----------+------+-------------------+-------------+\n",
            "|01234586924|Alicia Fernandes     |2021-04-30     |F   |Sulamerica|Recanto Oliveira     |584   |Vila Tirol                  |Nogueira   |GO    |1972-05-23 01:40:13|Brasil       |\n",
            "|01234596725|Maria Sophia Ferreira|1979-08-06     |F   |Sulamerica|Rodovia de Vieira    |279   |Coqueiros                   |Rocha      |AM    |2019-12-30 18:18:00|Brasil       |\n",
            "|01234597888|Ana Carolina Ramos   |2007-03-22     |F   |Prata     |Sitio de Freitas     |165   |Barao Homem De Melo 3a Secao|Duarte     |AL    |1972-06-27 14:22:36|Brasil       |\n",
            "|01234657880|Lucas Cavalcanti     |1977-02-28     |M   |Prata     |Avenida Barros       |242   |Vila Sao Geraldo            |Da Cunha   |MA    |1972-09-05 15:30:01|Brasil       |\n",
            "|01234658771|Olivia da Costa      |2011-07-30     |F   |Sulamerica|Ladeira de Santos    |0     |Barro Preto                 |Rocha Verde|AM    |1983-10-10 04:29:59|Brasil       |\n",
            "|01234698722|Camila Melo          |2001-12-29     |F   |Sulamerica|Campo Arthur Caldeira|580   |Bacurau                     |Lima       |AM    |2002-01-05 00:54:57|Brasil       |\n",
            "|01234758644|Alexia Rodrigues     |1970-09-16     |F   |Bradesco  |Conjunto Caldeira    |689   |Atila De Paiva              |Novaes     |ES    |1990-10-27 08:59:45|Brasil       |\n",
            "|01234865998|Camila da Cruz       |2016-05-14     |F   |AMIL      |Feira Rezende        |717   |Cidade Jardim Taquaril      |Ribeiro    |PA    |1980-10-22 16:06:48|Brasil       |\n",
            "+-----------+---------------------+---------------+----+----------+---------------------+------+----------------------------+-----------+------+-------------------+-------------+\n",
            "only showing top 8 rows\n",
            "\n"
          ]
        }
      ]
    },
    {
      "cell_type": "code",
      "source": [
        "#Criando uma view temporária\n",
        "cadastro_final_parquet.createOrReplaceTempView(\"cadastro_final\")"
      ],
      "metadata": {
        "id": "L2ESZpBljqzc"
      },
      "execution_count": null,
      "outputs": []
    },
    {
      "cell_type": "code",
      "source": [
        "#Verificando se os dados não se repetem na base de dados final\n",
        "spark.sql(\"\"\"\n",
        "      SELECT DISTINCT\n",
        "        COUNT(CPF) as TOTAL_REGISTROS_UNICOS,\n",
        "        COUNT(*) as TOTAL_REGISTROS\n",
        "      FROM\n",
        "        cadastro_final\n",
        "\"\"\").show()"
      ],
      "metadata": {
        "colab": {
          "base_uri": "https://localhost:8080/"
        },
        "id": "stsn9kG8j5A3",
        "outputId": "5f567ccc-6f10-463a-bb6f-0814a15d6547"
      },
      "execution_count": null,
      "outputs": [
        {
          "output_type": "stream",
          "name": "stdout",
          "text": [
            "+----------------------+---------------+\n",
            "|TOTAL_REGISTROS_UNICOS|TOTAL_REGISTROS|\n",
            "+----------------------+---------------+\n",
            "|               2857694|        2857694|\n",
            "+----------------------+---------------+\n",
            "\n"
          ]
        }
      ]
    },
    {
      "cell_type": "code",
      "source": [
        "#Caminho onde salva o arquivo no Google Drive\n",
        "caminho_no_drive = \"/content/drive/MyDrive/ETL_Exercicio/Ready_Data/cadastro_final_parquet\"\n",
        "\n",
        "#Salvando o DataFrame como arquivo parquet no Google Drive\n",
        "cadastro_final_parquet.write.parquet(caminho_no_drive, mode=\"overwrite\")"
      ],
      "metadata": {
        "id": "reeravo1hwSp"
      },
      "execution_count": null,
      "outputs": []
    }
  ]
}